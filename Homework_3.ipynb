{
 "cells": [
  {
   "cell_type": "code",
   "execution_count": 29,
   "metadata": {},
   "outputs": [
    {
     "name": "stdout",
     "output_type": "stream",
     "text": [
      "Please enter your name : Sevgi\n",
      "Welcome Sevgi ,you have 3 guess to find the city\n",
      "Please write your first guest : İzmir\n",
      "Please try again\n",
      "Please write your first guest : Manisa\n",
      "Please try again\n",
      "Please write your first guest : istanbul\n",
      "Please try again\n",
      "Please write your first guest : Kastamonu\n",
      "Please try again\n",
      "Please write your first guest : Adana\n",
      "You didn't find the city name :(\n"
     ]
    }
   ],
   "source": [
    "import random as rnd\n",
    "iller =[\"Adana\",\"Adıyaman\",\"Afyon\",\"Ağrı\",\"Amasya\",\"Ankara\",\"Antalya\",\"Artvin\",\"Aydın\",\n",
    "        \"Balıkesir\",\"Bilecik\",\"Bingöl\",\"Bitlis\",\"Bolu\",\"Burdur\",\"Bursa\",\"Çanakkale\",\n",
    "        \"Çankırı\",\"Çorum\",\"Denizli\",\"Diyarbakır\",\"Edirne\",\"Elazığ\",\"Erzincan\",\"Erzurum\",\"Eskişehir\",\n",
    "        \"Gaziantep\",\"Giresun\",\"Gümüşhane\",\"Hakkari\",\"Hatay\",\"Isparta\",\"Mersin\",\"İstanbul\",\"İzmir\",\n",
    "        \"Kars\",\"Kastamonu\",\"Kayseri\",\"Kırklareli\",\"Kırşehir\",\"Kocaeli\",\"Konya\",\"Kütahya\",\"Malatya\",\n",
    "        \"Manisa\",\"Kahramanmaraş\",\"Mardin\",\"Muğla\",\"Muş\",\"Nevşehir\",\"Niğde\",\"Ordu\",\"Rize\",\"Sakarya\",\"Samsun\",\n",
    "        \"Siirt\",\"Sinop\",\"Sivas\",\"Tekirdağ\",\"Tokat\",\"Trabzon\",\"Tunceli\",\"Şanlıurfa\",\"Uşak\",\"Van\",\"Yozgat\",\n",
    "        \"Zonguldak\",\"Aksaray\",\"Bayburt\",\"Karaman\",\"Kırıkkale\",\"Batman\",\"Şırnak\",\"Bartın\",\"Ardahan\",\n",
    "        \"Iğdır\",\"Yalova\",\"Karabük\",\"Kilis\",\"Osmaniye\",\"Düzce\"]\n",
    "\n",
    "\n",
    "user=input(\"Please enter your name : \")\n",
    "print(\"Welcome {} ,you have 3 guess to find the city\".format(user))\n",
    "random_il=iller[rnd.randint(1,82)]\n",
    "counter=0\n",
    "while True :\n",
    "    guess1=input(\"Please write your first guest : \")\n",
    "    counter+=1\n",
    "    if counter<5:\n",
    "        if guess1!=random_il:\n",
    "            print(\"Please try again\")\n",
    "        else:\n",
    "            print(\"Your {}.guess is correct! Conguratulations!\".format(counter))\n",
    "    else:\n",
    "        print(\"You didn't find the city name :(\")\n",
    "        break\n",
    "        "
   ]
  },
  {
   "cell_type": "code",
   "execution_count": null,
   "metadata": {},
   "outputs": [],
   "source": []
  },
  {
   "cell_type": "code",
   "execution_count": null,
   "metadata": {},
   "outputs": [],
   "source": []
  }
 ],
 "metadata": {
  "kernelspec": {
   "display_name": "Python 3",
   "language": "python",
   "name": "python3"
  },
  "language_info": {
   "codemirror_mode": {
    "name": "ipython",
    "version": 3
   },
   "file_extension": ".py",
   "mimetype": "text/x-python",
   "name": "python",
   "nbconvert_exporter": "python",
   "pygments_lexer": "ipython3",
   "version": "3.8.3"
  }
 },
 "nbformat": 4,
 "nbformat_minor": 4
}
