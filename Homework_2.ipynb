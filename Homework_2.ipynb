{
 "cells": [
  {
   "cell_type": "code",
   "execution_count": null,
   "metadata": {},
   "outputs": [],
   "source": [
    "first_name = input(\"Please write your first name : \")\n",
    "last_name = input(\"Please write your last name : \")\n",
    "age = input(\"Please write your age :\")\n",
    "age= int(age)\n",
    "year = input(\"Please write your birhtday-only year :\")\n",
    "\n",
    "if len(year)==4:\n",
    "    age1=2020-int(year)\n",
    "    if age==2020-int(year):\n",
    "        if age<18:\n",
    "            print(\"You can't go out because it's too dangerous\")\n",
    "        else :\n",
    "            print(\"You can go out to the street\")\n",
    "    else:\n",
    "        print(\"Control your age\")\n",
    "        \n",
    "elif len(year)==2:\n",
    "    print(\"Please write the year of your birhtday in 4 digit\")\n",
    "\n",
    "elif len(year)>4:\n",
    "    print(\"Please write only year\")\n",
    "\n",
    "else:    \n",
    "    print(\"You DO NOT write your birthday information\")"
   ]
  }
 ],
 "metadata": {
  "kernelspec": {
   "display_name": "Python 3",
   "language": "python",
   "name": "python3"
  },
  "language_info": {
   "codemirror_mode": {
    "name": "ipython",
    "version": 3
   },
   "file_extension": ".py",
   "mimetype": "text/x-python",
   "name": "python",
   "nbconvert_exporter": "python",
   "pygments_lexer": "ipython3",
   "version": "3.8.3"
  }
 },
 "nbformat": 4,
 "nbformat_minor": 4
}
