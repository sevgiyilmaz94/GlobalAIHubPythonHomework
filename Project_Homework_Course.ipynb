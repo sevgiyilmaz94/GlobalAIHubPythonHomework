{
 "cells": [
  {
   "cell_type": "code",
   "execution_count": null,
   "metadata": {},
   "outputs": [],
   "source": [
    "system_name=\"Tonny\"\n",
    "system_surname=\"Stark\"\n",
    "\n",
    "name=input(\"Enter your system name :\")\n",
    "surname=input(\"Enter your system surname :\")\n",
    "#LOGIN\n",
    "counter=0\n",
    "while counter < 3:\n",
    "    if system_name==name and system_surname==surname:\n",
    "        print(\"Welcome\")\n",
    "        break            \n",
    "    else:\n",
    "        print(\"Please enter your system name&surname\")\n",
    "        name=input(\"Enter your system name :\")\n",
    "        surname=input(\"Enter your system surname :\")\n",
    "        counter+=1\n",
    "        if counter==3:\n",
    "            print(\"Please try 5 min later\")\n",
    "            \n",
    "derslist=[\"Math\",\"English\",\"Science\",\"History\",\"Computer Science\"]\n",
    "ders=len(derslist)\n",
    "studentlist=[]\n",
    "print(\"Select min 3,max 5 lesson\")\n",
    "print(derslist)\n",
    "\n",
    "total = midterm * 0.3 + final * 0.5 + project * 0.2\n",
    "\n",
    "if 89 < total:\n",
    "        grade = \"AA\"\n",
    "elif 69 < total < 90:\n",
    "        grade = \"BB\"\n",
    "elif 49 < total < 70:\n",
    "        grade = \"CC\"\n",
    "elif 29 < total < 50:\n",
    "        grade = \"DD\"\n",
    "elif total< 30:\n",
    "        grade = \"FF\"\n",
    "\n",
    "print(\"Result is: ({}) {}\".format(grade, round(total, 2)))\n",
    "if grade == 'FF':\n",
    "        print(\"Failed Sorry\")\n",
    "else:\n",
    "        print(\"Conguratulation,you passed!\")\n"
   ]
  },
  {
   "cell_type": "code",
   "execution_count": null,
   "metadata": {},
   "outputs": [],
   "source": []
  },
  {
   "cell_type": "code",
   "execution_count": null,
   "metadata": {},
   "outputs": [],
   "source": []
  },
  {
   "cell_type": "code",
   "execution_count": null,
   "metadata": {},
   "outputs": [],
   "source": []
  },
  {
   "cell_type": "code",
   "execution_count": null,
   "metadata": {},
   "outputs": [],
   "source": []
  }
 ],
 "metadata": {
  "kernelspec": {
   "display_name": "Python 3",
   "language": "python",
   "name": "python3"
  },
  "language_info": {
   "codemirror_mode": {
    "name": "ipython",
    "version": 3
   },
   "file_extension": ".py",
   "mimetype": "text/x-python",
   "name": "python",
   "nbconvert_exporter": "python",
   "pygments_lexer": "ipython3",
   "version": "3.8.3"
  }
 },
 "nbformat": 4,
 "nbformat_minor": 4
}
