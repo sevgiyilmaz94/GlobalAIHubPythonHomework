{
 "cells": [
  {
   "cell_type": "code",
   "execution_count": 14,
   "metadata": {},
   "outputs": [
    {
     "name": "stdout",
     "output_type": "stream",
     "text": [
      "Please write first value : 5\n",
      "Please write second value : 78\n",
      "Please write third value : 9\n",
      "Please write forth value : 4\n",
      "Please write fifth value : 5\n",
      "Type of values is string \n",
      "Type of values is string \n",
      "Type of values is string \n",
      "Type of values is string \n",
      "Type of values is string \n",
      "Your 1.values is 5\n",
      "Your 2.values is 78\n",
      "Your 3.values is 9\n",
      "Your 4.values is 4\n",
      "Your 5.values is 5\n"
     ]
    }
   ],
   "source": [
    "#Takes 5 values from user\n",
    "val1=input(\"Please write first value : \")\n",
    "val2=input(\"Please write second value : \")\n",
    "val3=input(\"Please write third value : \")\n",
    "val4=input(\"Please write forth value : \")\n",
    "val5=input(\"Please write fifth value : \")\n",
    "\n",
    "#Print the values that user's input\n",
    "values=[val1,val2,val3,val4,val5]\n",
    "for i in values:  \n",
    "    if type(i)==str:\n",
    "        val_type=\"string\"\n",
    "    else:\n",
    "        val_type=\"not_string\"\n",
    "        \n",
    "    print('Type of values is %s '%val_type)\n",
    "\n",
    "#Print values to screen\n",
    "counter=1\n",
    "for a in values:\n",
    "    print(\"Your {}.values is {}\".format(counter,values[counter-1]))\n",
    "    counter+=1\n"
   ]
  },
  {
   "cell_type": "code",
   "execution_count": null,
   "metadata": {},
   "outputs": [],
   "source": []
  }
 ],
 "metadata": {
  "kernelspec": {
   "display_name": "Python 3",
   "language": "python",
   "name": "python3"
  },
  "language_info": {
   "codemirror_mode": {
    "name": "ipython",
    "version": 3
   },
   "file_extension": ".py",
   "mimetype": "text/x-python",
   "name": "python",
   "nbconvert_exporter": "python",
   "pygments_lexer": "ipython3",
   "version": "3.8.3"
  }
 },
 "nbformat": 4,
 "nbformat_minor": 4
}
